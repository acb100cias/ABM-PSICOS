{
  "nbformat": 4,
  "nbformat_minor": 0,
  "metadata": {
    "colab": {
      "provenance": [],
      "authorship_tag": "ABX9TyNCFGKNoNku0tOe1uuIA8cY",
      "include_colab_link": true
    },
    "kernelspec": {
      "name": "python3",
      "display_name": "Python 3"
    },
    "language_info": {
      "name": "python"
    }
  },
  "cells": [
    {
      "cell_type": "markdown",
      "metadata": {
        "id": "view-in-github",
        "colab_type": "text"
      },
      "source": [
        "<a href=\"https://colab.research.google.com/github/acb100cias/ABM-PSICOS/blob/master/Excitables.ipynb\" target=\"_parent\"><img src=\"https://colab.research.google.com/assets/colab-badge.svg\" alt=\"Open In Colab\"/></a>"
      ]
    },
    {
      "cell_type": "code",
      "execution_count": null,
      "metadata": {
        "id": "qm2LBf6GMgXT"
      },
      "outputs": [],
      "source": [
        "import numpy as np\n",
        "import scipy.integrate as integrate\n",
        "import matplotlib.pyplot as plt"
      ]
    },
    {
      "cell_type": "code",
      "source": [
        "uc=0.25\n",
        "def f(u):\n",
        "  return u*(1-u)*(u-uc)"
      ],
      "metadata": {
        "id": "QpjrqCWXM0wV"
      },
      "execution_count": null,
      "outputs": []
    },
    {
      "cell_type": "code",
      "source": [
        "f(23)"
      ],
      "metadata": {
        "id": "QNJo6DUeNWk_"
      },
      "execution_count": null,
      "outputs": []
    },
    {
      "cell_type": "code",
      "source": [
        "U=np.arange(-0.2,1.1,0.01)"
      ],
      "metadata": {
        "id": "80r42k5uNYQ1"
      },
      "execution_count": null,
      "outputs": []
    },
    {
      "cell_type": "code",
      "source": [
        "FU=f(U)"
      ],
      "metadata": {
        "id": "35uXq-dmNmfi"
      },
      "execution_count": null,
      "outputs": []
    },
    {
      "cell_type": "code",
      "source": [
        "FU\n"
      ],
      "metadata": {
        "id": "uMDivirSNuwI"
      },
      "execution_count": null,
      "outputs": []
    },
    {
      "cell_type": "code",
      "source": [
        "plt.plot(U,FU)\n",
        "plt.scatter([0,uc,1],[0,f(uc),f(1)],color='red')"
      ],
      "metadata": {
        "id": "GLiYYYkwNvmU"
      },
      "execution_count": null,
      "outputs": []
    },
    {
      "cell_type": "code",
      "source": [
        "plt.plot(U,FU)\n",
        "plt.axvline(x=0,color='black')\n",
        "plt.axhline(y=0,color='black')\n",
        "for v in np.arange(-0.09,0.13,0.032):\n",
        "  plt.plot(U,FU-v)\n"
      ],
      "metadata": {
        "id": "iln1ec_lN1jN"
      },
      "execution_count": null,
      "outputs": []
    },
    {
      "cell_type": "code",
      "source": [
        "epsilon=0.1\n",
        "k=1\n",
        "def G(X,t):\n",
        "  u,v=X\n",
        "  return np.array([(u*(1-u)*(u-uc)-v),epsilon*(k*u-v)])\n"
      ],
      "metadata": {
        "id": "uNCLVZNQPMyY"
      },
      "execution_count": null,
      "outputs": []
    },
    {
      "cell_type": "code",
      "source": [
        "T=np.linspace(-1,100,3000)"
      ],
      "metadata": {
        "id": "2pbs6BAdQ9_h"
      },
      "execution_count": null,
      "outputs": []
    },
    {
      "cell_type": "code",
      "source": [
        "sol=integrate.odeint(G,[0,-0.2],T)"
      ],
      "metadata": {
        "id": "uZz6lZukREPb"
      },
      "execution_count": null,
      "outputs": []
    },
    {
      "cell_type": "code",
      "source": [
        "plt.plot(T,sol.T[0])\n",
        "plt.plot(T,sol.T[1])\n"
      ],
      "metadata": {
        "id": "y5jWy_D5RSSL"
      },
      "execution_count": null,
      "outputs": []
    },
    {
      "cell_type": "code",
      "source": [
        "plt.plot(sol.T[0],sol.T[1])"
      ],
      "metadata": {
        "id": "5rLcmL0ER39s"
      },
      "execution_count": null,
      "outputs": []
    },
    {
      "cell_type": "code",
      "source": [
        "for j in np.arange(0,1,0.01):\n",
        "  plt.plot(integrate.odeint(G,[j,-0.2],T).T[0],integrate.odeint(G,[j,-0.2],T).T[1])\n",
        "\n"
      ],
      "metadata": {
        "id": "RDtTcWa3SmqB"
      },
      "execution_count": null,
      "outputs": []
    },
    {
      "cell_type": "code",
      "source": [
        "tmin=0\n",
        "tmax=50\n",
        "gk=36\n",
        "gNa=120\n",
        "gL=0.3\n",
        "Cm=1.\n",
        "Vk=-12.\n",
        "VNa=115.\n",
        "VL=10.61\n",
        "T1=np.linspace(tmin,tmax,10000)\n",
        "\n"
      ],
      "metadata": {
        "id": "G3odzBngTRji"
      },
      "execution_count": null,
      "outputs": []
    },
    {
      "cell_type": "code",
      "source": [
        "def alpha_n(Vm):\n",
        "  return (0.1*(10.-Vm)/(np.exp(Vm)/(10.-Vm)-1.))\n",
        "def beta_n(Vm):\n",
        "  return 0.125*np.exp(-Vm/80.)"
      ],
      "metadata": {
        "id": "WAr9oYFCULUh"
      },
      "execution_count": null,
      "outputs": []
    }
  ]
}